{
 "metadata": {
  "name": "",
  "signature": "sha256:63d027e3b1ae53e04a6d2c99201afb07a230b39bb65d9c7d9bd62b3cf6ecc8d6"
 },
 "nbformat": 3,
 "nbformat_minor": 0,
 "worksheets": [
  {
   "cells": [
    {
     "cell_type": "heading",
     "level": 1,
     "metadata": {
      "slideshow": {
       "slide_type": "-"
      }
     },
     "source": [
      "Mapping and variant calling from DNA sequence data in the command line"
     ]
    },
    {
     "cell_type": "markdown",
     "metadata": {
      "slideshow": {
       "slide_type": "-"
      }
     },
     "source": [
      " Background and motivation\n",
      " Choose your computer, organize your directories\n",
      " Introducing two workflows\n",
      " Workflow 1: GATK Native\n",
      " Workflow 2: FreeBayes\n",
      " Download, compile, and install various software tools\n",
      " (Workflows 1 and 2) Your sequence data: Find samples and SRR run accessions at NCBI\n",
      " (Workflow 1) SRA_GATK: from aligned reads to called variants with a single command\n",
      " (Workflow 2) Get raw data in the FASTQ format\n",
      " (Workflow 2) Assess the quality of your FASTQ file(s) with FastQC\n",
      " (Workflow 2) Find and index your reference genome (get a chromosome reference file from NCBI)\n",
      " (Workflow 2) Mapping: use BWA to align FASTQ files to reference genomes\n",
      " (Workflow 2) Manipulate your aligned genome: sort, index, BAM\n",
      " (Workflow 2) Variant calling: FreeBayes to generate a VCF file\n",
      " (Workflows 1 and 2) Visualize BAM, VCF, and BED files (IGV, Genome Workbench)\n",
      " (Workflows 1 and 2) Analyze your genomic variants"
     ]
    },
    {
     "cell_type": "heading",
     "level": 2,
     "metadata": {},
     "source": [
      "Background and motivation"
     ]
    },
    {
     "cell_type": "code",
     "collapsed": false,
     "input": [],
     "language": "python",
     "metadata": {},
     "outputs": []
    },
    {
     "cell_type": "heading",
     "level": 2,
     "metadata": {},
     "source": [
      "Choose your computer, organize your directories"
     ]
    },
    {
     "cell_type": "code",
     "collapsed": false,
     "input": [],
     "language": "python",
     "metadata": {},
     "outputs": []
    },
    {
     "cell_type": "heading",
     "level": 2,
     "metadata": {},
     "source": [
      "Introducing two workflows"
     ]
    },
    {
     "cell_type": "code",
     "collapsed": false,
     "input": [],
     "language": "python",
     "metadata": {},
     "outputs": []
    },
    {
     "cell_type": "heading",
     "level": 2,
     "metadata": {},
     "source": [
      "Workflow 1: GATK Native"
     ]
    },
    {
     "cell_type": "code",
     "collapsed": false,
     "input": [],
     "language": "python",
     "metadata": {},
     "outputs": []
    },
    {
     "cell_type": "heading",
     "level": 2,
     "metadata": {},
     "source": [
      "Workflow 2: FreeBayes"
     ]
    },
    {
     "cell_type": "code",
     "collapsed": false,
     "input": [],
     "language": "python",
     "metadata": {},
     "outputs": []
    },
    {
     "cell_type": "heading",
     "level": 2,
     "metadata": {},
     "source": [
      "Download, compile, and install various software tools"
     ]
    },
    {
     "cell_type": "code",
     "collapsed": false,
     "input": [],
     "language": "python",
     "metadata": {},
     "outputs": []
    },
    {
     "cell_type": "markdown",
     "metadata": {},
     "source": [
      "[todo]\n",
      " (Workflows 1 and 2) Your sequence data: Find samples and SRR run accessions at NCBI\n",
      " (Workflow 1) SRA_GATK: from aligned reads to called variants with a single command\n",
      " (Workflow 2) Get raw data in the FASTQ format\n",
      " (Workflow 2) Assess the quality of your FASTQ file(s) with FastQC\n",
      " (Workflow 2) Find and index your reference genome (get a chromosome reference file from NCBI)\n",
      " (Workflow 2) Mapping: use BWA to align FASTQ files to reference genomes\n",
      " (Workflow 2) Manipulate your aligned genome: sort, index, BAM\n",
      " (Workflow 2) Variant calling: FreeBayes to generate a VCF file\n",
      " (Workflows 1 and 2) Visualize BAM, VCF, and BED files (IGV, Genome Workbench)\n",
      " (Workflows 1 and 2) Analyze your genomic variants"
     ]
    }
   ],
   "metadata": {}
  }
 ]
}